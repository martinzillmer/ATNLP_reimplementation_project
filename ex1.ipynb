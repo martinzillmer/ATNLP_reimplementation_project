{
 "cells": [
  {
   "cell_type": "code",
   "execution_count": 2,
   "metadata": {},
   "outputs": [
    {
     "name": "stdout",
     "output_type": "stream",
     "text": [
      "Device:  cpu\n",
      "Random seed set as 42\n"
     ]
    }
   ],
   "source": [
    "import torch\n",
    "from preprocessing import get_dataframes\n",
    "from dataloading import Text_dataset, get_dataloaders\n",
    "from utilities import set_seed\n",
    "device = torch.device(\"cuda\" if torch.cuda.is_available() else \"cpu\")\n",
    "print(\"Device: \", device)\n",
    "\n",
    "# Enforce reproducability\n",
    "set_seed(42)\n",
    "\n",
    "# Create dataframes\n",
    "train_url = \"https://raw.githubusercontent.com/brendenlake/SCAN/master/simple_split/tasks_train_simple.txt\"\n",
    "test_url = \"https://raw.githubusercontent.com/brendenlake/SCAN/master/simple_split/tasks_test_simple.txt\"\n",
    "train_df, test_df, voc_in, voc_out = get_dataframes(train_url, test_url)\n",
    "\n",
    "# Create datasets\n",
    "train_data = Text_dataset(train_df[['IN_idx', 'OUT_idx', 'lens']], sample=True, size=100000)\n",
    "test_data = Text_dataset(test_df[['IN_idx', 'OUT_idx', 'lens']], sample=False)\n",
    "\n",
    "# Create\n",
    "train_loader, test_loader = get_dataloaders(train_data, test_data)"
   ]
  },
  {
   "cell_type": "code",
   "execution_count": 4,
   "metadata": {},
   "outputs": [
    {
     "name": "stdout",
     "output_type": "stream",
     "text": [
      "Random seed set as 0\n"
     ]
    },
    {
     "name": "stderr",
     "output_type": "stream",
     "text": [
      "0it [00:00, ?it/s]"
     ]
    },
    {
     "name": "stderr",
     "output_type": "stream",
     "text": [
      "19110it [17:08, 16.90it/s]"
     ]
    }
   ],
   "source": [
    "import models\n",
    "from training import train\n",
    "\n",
    "\n",
    "# Best in experiment 1\n",
    "layers = 2\n",
    "hidden_size = 200\n",
    "dropout = 0\n",
    "max_len = train_df.OUT_idx.apply(len).max()\n",
    "\n",
    "for i in range(1):\n",
    "    set_seed(i)\n",
    "    encoder = models.EncoderRNN('lstm', len(voc_in), hidden_size, layers, dropout).to(device)\n",
    "    decoder = models.DecoderRNN('lstm', hidden_size, len(voc_out), layers, device, max_len).to(device)      \n",
    "    train(train_loader, encoder, decoder, device, len(voc_out), save_name='ex1_best_'+str(i))"
   ]
  },
  {
   "cell_type": "code",
   "execution_count": null,
   "metadata": {},
   "outputs": [],
   "source": [
    "# Overall best\n",
    "layers = 2\n",
    "hidden_size = 200\n",
    "dropout = 0.5\n",
    "max_len = train_df.OUT_idx.apply(len).max()\n",
    "\n",
    "for i in range(5):\n",
    "    set_seed(i)\n",
    "    encoder = models.EncoderRNN('lstm', train_vocab_in.n_words, hidden_size, layers, dropout).to(device)\n",
    "    decoder = models.DecoderRNN('lstm', hidden_size, train_vocab_out.n_words, layers, device, max_len).to(device)\n",
    "    train(train_dataloader, encoder, decoder, device, save_name='ex1_overall_'+str(i))"
   ]
  },
  {
   "cell_type": "code",
   "execution_count": null,
   "metadata": {},
   "outputs": [],
   "source": [
    "import models\n",
    "from training import evaluate\n",
    "# Overall best\n",
    "layers = 2\n",
    "hidden_size = 200\n",
    "dropout = 0.5\n",
    "max_len = train_df.OUT_idx.apply(len).max()\n",
    "\n",
    "acc = 0\n",
    "for i in range(1,6):\n",
    "    encoder = models.EncoderRNN('lstm', train_vocab_in.n_words, hidden_size, layers, dropout).to(device)\n",
    "    decoder = models.DecoderRNN('lstm', hidden_size, train_vocab_out.n_words, layers, device, max_len).to(device)\n",
    "    encoder.load_state_dict(torch.load('models/encoder_ex1_best_'+str(i)+'.pth'))\n",
    "    decoder.load_state_dict(torch.load('models/decoder_ex1_best_'+str(i)+'.pth'))\n",
    "    acc += evaluate(encoder, decoder, test_dataloader, device)\n",
    "\n",
    "print(acc/5)"
   ]
  },
  {
   "cell_type": "code",
   "execution_count": null,
   "metadata": {},
   "outputs": [],
   "source": [
    "\n",
    "\n",
    "acc = evaluate(encoder, decoder, test_dataloader, device)"
   ]
  },
  {
   "cell_type": "markdown",
   "metadata": {},
   "source": [
    "Second part of experiment"
   ]
  },
  {
   "cell_type": "code",
   "execution_count": null,
   "metadata": {},
   "outputs": [],
   "source": [
    "# best overall\n",
    "max_len = train_df.OUT_idx.apply(len).max()\n",
    "layers = 2\n",
    "hidden_size = 200\n",
    "dropout = 0.5\n",
    "\n",
    "bs = 1 # Batch size\n",
    "\n",
    "percentages = [0.01, 0.02, 0.04, 0.08, 0.16, 0.32, 0.64]\n",
    "replications = 5\n",
    "accurcies = torch.zeros(len(percentages), replications)\n",
    "for i, p in enumerate(percentages):\n",
    "    set_seed(42)\n",
    "\n",
    "    idx = int((len(train_df) + len(test_df)) * p)\n",
    "    training_data = Text_dataset(train_df[['IN_idx', 'OUT_idx']][:idx], True, 100000)\n",
    "    \n",
    "    for j in range(replications):\n",
    "            set_seed(i)\n",
    "            encoder = models.EncoderRNN('lstm', train_vocab_in.n_words, hidden_size, layers, dropout).to(device)\n",
    "            decoder = models.DecoderRNN('lstm', hidden_size, train_vocab_out.n_words, layers, device, max_len).to(device)\n",
    "            train_dataloader = DataLoader(training_data, batch_size=bs, shuffle=False)\n",
    "            name = 'ex1_pt2_p'+str(p)[2:]+'_'+str(j)\n",
    "            train(train_dataloader, encoder, decoder, device, save_name=name)\n",
    "            acc = evaluate(encoder, decoder, test_dataloader, device)\n",
    "            accurcies[i,j] = acc\n",
    "\n",
    "txt = str(accurcies)\n",
    "f = open(\"ex1_pt2.txt\", \"a\")\n",
    "f.write(txt)\n",
    "f.close()"
   ]
  }
 ],
 "metadata": {
  "kernelspec": {
   "display_name": "Python 3",
   "language": "python",
   "name": "python3"
  },
  "language_info": {
   "codemirror_mode": {
    "name": "ipython",
    "version": 3
   },
   "file_extension": ".py",
   "mimetype": "text/x-python",
   "name": "python",
   "nbconvert_exporter": "python",
   "pygments_lexer": "ipython3",
   "version": "3.11.5"
  }
 },
 "nbformat": 4,
 "nbformat_minor": 2
}
