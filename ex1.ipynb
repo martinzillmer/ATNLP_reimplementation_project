{
 "cells": [
  {
   "cell_type": "code",
   "execution_count": 6,
   "metadata": {},
   "outputs": [],
   "source": [
    "from __future__ import unicode_literals, print_function, division\n",
    "import torch\n",
    "device = torch.device(\"cuda\" if torch.cuda.is_available() else \"cpu\")"
   ]
  },
  {
   "cell_type": "code",
   "execution_count": 7,
   "metadata": {},
   "outputs": [
    {
     "data": {
      "text/html": [
       "<div>\n",
       "<style scoped>\n",
       "    .dataframe tbody tr th:only-of-type {\n",
       "        vertical-align: middle;\n",
       "    }\n",
       "\n",
       "    .dataframe tbody tr th {\n",
       "        vertical-align: top;\n",
       "    }\n",
       "\n",
       "    .dataframe thead th {\n",
       "        text-align: right;\n",
       "    }\n",
       "</style>\n",
       "<table border=\"1\" class=\"dataframe\">\n",
       "  <thead>\n",
       "    <tr style=\"text-align: right;\">\n",
       "      <th></th>\n",
       "      <th>IN</th>\n",
       "      <th>OUT</th>\n",
       "    </tr>\n",
       "  </thead>\n",
       "  <tbody>\n",
       "    <tr>\n",
       "      <th>0</th>\n",
       "      <td>[jump, opposite, right, twice, and, turn, oppo...</td>\n",
       "      <td>[I_TURN_RIGHT, I_TURN_RIGHT, I_JUMP, I_TURN_RI...</td>\n",
       "    </tr>\n",
       "    <tr>\n",
       "      <th>1</th>\n",
       "      <td>[run, opposite, left, after, walk, right, &lt;eos...</td>\n",
       "      <td>[I_TURN_RIGHT, I_WALK, I_TURN_LEFT, I_TURN_LEF...</td>\n",
       "    </tr>\n",
       "    <tr>\n",
       "      <th>2</th>\n",
       "      <td>[walk, after, run, around, right, twice, &lt;eos&gt;...</td>\n",
       "      <td>[I_TURN_RIGHT, I_RUN, I_TURN_RIGHT, I_RUN, I_T...</td>\n",
       "    </tr>\n",
       "    <tr>\n",
       "      <th>3</th>\n",
       "      <td>[look, around, right, thrice, and, turn, left,...</td>\n",
       "      <td>[I_TURN_RIGHT, I_LOOK, I_TURN_RIGHT, I_LOOK, I...</td>\n",
       "    </tr>\n",
       "    <tr>\n",
       "      <th>4</th>\n",
       "      <td>[walk, opposite, left, twice, and, walk, oppos...</td>\n",
       "      <td>[I_TURN_LEFT, I_TURN_LEFT, I_WALK, I_TURN_LEFT...</td>\n",
       "    </tr>\n",
       "  </tbody>\n",
       "</table>\n",
       "</div>"
      ],
      "text/plain": [
       "                                                  IN  \\\n",
       "0  [jump, opposite, right, twice, and, turn, oppo...   \n",
       "1  [run, opposite, left, after, walk, right, <eos...   \n",
       "2  [walk, after, run, around, right, twice, <eos>...   \n",
       "3  [look, around, right, thrice, and, turn, left,...   \n",
       "4  [walk, opposite, left, twice, and, walk, oppos...   \n",
       "\n",
       "                                                 OUT  \n",
       "0  [I_TURN_RIGHT, I_TURN_RIGHT, I_JUMP, I_TURN_RI...  \n",
       "1  [I_TURN_RIGHT, I_WALK, I_TURN_LEFT, I_TURN_LEF...  \n",
       "2  [I_TURN_RIGHT, I_RUN, I_TURN_RIGHT, I_RUN, I_T...  \n",
       "3  [I_TURN_RIGHT, I_LOOK, I_TURN_RIGHT, I_LOOK, I...  \n",
       "4  [I_TURN_LEFT, I_TURN_LEFT, I_WALK, I_TURN_LEFT...  "
      ]
     },
     "execution_count": 7,
     "metadata": {},
     "output_type": "execute_result"
    }
   ],
   "source": [
    "from preprocessing import get_dataframes\n",
    "train_url = \"https://raw.githubusercontent.com/brendenlake/SCAN/master/simple_split/tasks_train_simple.txt\"\n",
    "test_url = \"https://raw.githubusercontent.com/brendenlake/SCAN/master/simple_split/tasks_test_simple.txt\"\n",
    "train_df, test_df = get_dataframes(train_url, test_url)\n",
    "\n",
    "train_df.head()"
   ]
  },
  {
   "cell_type": "code",
   "execution_count": 8,
   "metadata": {},
   "outputs": [
    {
     "name": "stdout",
     "output_type": "stream",
     "text": [
      "{'<pad>': 0, '<sos>': 1, '<eos>': 2, 'jump': 3, 'opposite': 4, 'right': 5, 'twice': 6, 'and': 7, 'turn': 8, 'thrice': 9, 'run': 10, 'left': 11, 'after': 12, 'walk': 13, 'around': 14, 'look': 15}\n",
      "{'<pad>': 0, '<sos>': 1, '<eos>': 2, 'I_TURN_RIGHT': 3, 'I_JUMP': 4, 'I_WALK': 5, 'I_TURN_LEFT': 6, 'I_RUN': 7, 'I_LOOK': 8}\n"
     ]
    },
    {
     "data": {
      "text/html": [
       "<div>\n",
       "<style scoped>\n",
       "    .dataframe tbody tr th:only-of-type {\n",
       "        vertical-align: middle;\n",
       "    }\n",
       "\n",
       "    .dataframe tbody tr th {\n",
       "        vertical-align: top;\n",
       "    }\n",
       "\n",
       "    .dataframe thead th {\n",
       "        text-align: right;\n",
       "    }\n",
       "</style>\n",
       "<table border=\"1\" class=\"dataframe\">\n",
       "  <thead>\n",
       "    <tr style=\"text-align: right;\">\n",
       "      <th></th>\n",
       "      <th>IN</th>\n",
       "      <th>OUT</th>\n",
       "      <th>IN_idx</th>\n",
       "      <th>OUT_idx</th>\n",
       "    </tr>\n",
       "  </thead>\n",
       "  <tbody>\n",
       "    <tr>\n",
       "      <th>0</th>\n",
       "      <td>[jump, opposite, right, twice, and, turn, oppo...</td>\n",
       "      <td>[I_TURN_RIGHT, I_TURN_RIGHT, I_JUMP, I_TURN_RI...</td>\n",
       "      <td>[tensor(3), tensor(4), tensor(5), tensor(6), t...</td>\n",
       "      <td>[tensor(3), tensor(3), tensor(4), tensor(3), t...</td>\n",
       "    </tr>\n",
       "    <tr>\n",
       "      <th>1</th>\n",
       "      <td>[run, opposite, left, after, walk, right, &lt;eos...</td>\n",
       "      <td>[I_TURN_RIGHT, I_WALK, I_TURN_LEFT, I_TURN_LEF...</td>\n",
       "      <td>[tensor(10), tensor(4), tensor(11), tensor(12)...</td>\n",
       "      <td>[tensor(3), tensor(5), tensor(6), tensor(6), t...</td>\n",
       "    </tr>\n",
       "    <tr>\n",
       "      <th>2</th>\n",
       "      <td>[walk, after, run, around, right, twice, &lt;eos&gt;...</td>\n",
       "      <td>[I_TURN_RIGHT, I_RUN, I_TURN_RIGHT, I_RUN, I_T...</td>\n",
       "      <td>[tensor(13), tensor(12), tensor(10), tensor(14...</td>\n",
       "      <td>[tensor(3), tensor(7), tensor(3), tensor(7), t...</td>\n",
       "    </tr>\n",
       "    <tr>\n",
       "      <th>3</th>\n",
       "      <td>[look, around, right, thrice, and, turn, left,...</td>\n",
       "      <td>[I_TURN_RIGHT, I_LOOK, I_TURN_RIGHT, I_LOOK, I...</td>\n",
       "      <td>[tensor(15), tensor(14), tensor(5), tensor(9),...</td>\n",
       "      <td>[tensor(3), tensor(8), tensor(3), tensor(8), t...</td>\n",
       "    </tr>\n",
       "    <tr>\n",
       "      <th>4</th>\n",
       "      <td>[walk, opposite, left, twice, and, walk, oppos...</td>\n",
       "      <td>[I_TURN_LEFT, I_TURN_LEFT, I_WALK, I_TURN_LEFT...</td>\n",
       "      <td>[tensor(13), tensor(4), tensor(11), tensor(6),...</td>\n",
       "      <td>[tensor(6), tensor(6), tensor(5), tensor(6), t...</td>\n",
       "    </tr>\n",
       "  </tbody>\n",
       "</table>\n",
       "</div>"
      ],
      "text/plain": [
       "                                                  IN  \\\n",
       "0  [jump, opposite, right, twice, and, turn, oppo...   \n",
       "1  [run, opposite, left, after, walk, right, <eos...   \n",
       "2  [walk, after, run, around, right, twice, <eos>...   \n",
       "3  [look, around, right, thrice, and, turn, left,...   \n",
       "4  [walk, opposite, left, twice, and, walk, oppos...   \n",
       "\n",
       "                                                 OUT  \\\n",
       "0  [I_TURN_RIGHT, I_TURN_RIGHT, I_JUMP, I_TURN_RI...   \n",
       "1  [I_TURN_RIGHT, I_WALK, I_TURN_LEFT, I_TURN_LEF...   \n",
       "2  [I_TURN_RIGHT, I_RUN, I_TURN_RIGHT, I_RUN, I_T...   \n",
       "3  [I_TURN_RIGHT, I_LOOK, I_TURN_RIGHT, I_LOOK, I...   \n",
       "4  [I_TURN_LEFT, I_TURN_LEFT, I_WALK, I_TURN_LEFT...   \n",
       "\n",
       "                                              IN_idx  \\\n",
       "0  [tensor(3), tensor(4), tensor(5), tensor(6), t...   \n",
       "1  [tensor(10), tensor(4), tensor(11), tensor(12)...   \n",
       "2  [tensor(13), tensor(12), tensor(10), tensor(14...   \n",
       "3  [tensor(15), tensor(14), tensor(5), tensor(9),...   \n",
       "4  [tensor(13), tensor(4), tensor(11), tensor(6),...   \n",
       "\n",
       "                                             OUT_idx  \n",
       "0  [tensor(3), tensor(3), tensor(4), tensor(3), t...  \n",
       "1  [tensor(3), tensor(5), tensor(6), tensor(6), t...  \n",
       "2  [tensor(3), tensor(7), tensor(3), tensor(7), t...  \n",
       "3  [tensor(3), tensor(8), tensor(3), tensor(8), t...  \n",
       "4  [tensor(6), tensor(6), tensor(5), tensor(6), t...  "
      ]
     },
     "execution_count": 8,
     "metadata": {},
     "output_type": "execute_result"
    }
   ],
   "source": [
    "from preprocessing import get_vocab\n",
    "\n",
    "train_vocab_in = get_vocab(train_df['IN'], 'in')\n",
    "train_vocab_out = get_vocab(train_df['OUT'], 'out')\n",
    "\n",
    "print(train_vocab_in.word2index)\n",
    "print(train_vocab_out.word2index)\n",
    "\n",
    "def series2idx(row):\n",
    "    x = train_vocab_in.col2idx(row, 'IN')\n",
    "    y = train_vocab_out.col2idx(row, 'OUT')\n",
    "    return x, y\n",
    "    \n",
    "train_df[['IN_idx','OUT_idx']] = train_df.apply(series2idx, axis=1, result_type='expand')\n",
    "test_df[['IN_idx','OUT_idx']] = test_df.apply(series2idx, axis=1, result_type='expand')\n",
    "\n",
    "train_df.head()"
   ]
  },
  {
   "cell_type": "code",
   "execution_count": null,
   "metadata": {},
   "outputs": [],
   "source": [
    "from dataloading import Text_dataset\n",
    "from torch.utils.data import DataLoader\n",
    "from utilities import set_seed\n",
    "\n",
    "set_seed(42)\n",
    "\n",
    "# Create datasets\n",
    "training_data = Text_dataset(train_df[['IN_idx', 'OUT_idx']], True, 100000)\n",
    "test_data = Text_dataset(test_df[['IN_idx', 'OUT_idx']], False)\n",
    "\n",
    "# Define dataloaders\n",
    "bs = 1 # Batch size\n",
    "train_dataloader = DataLoader(training_data, batch_size=bs, shuffle=False)\n",
    "test_dataloader = DataLoader(test_data, batch_size=bs, shuffle=False)"
   ]
  },
  {
   "cell_type": "code",
   "execution_count": null,
   "metadata": {},
   "outputs": [],
   "source": [
    "import models\n",
    "from training import train\n",
    "max_len = train_df.OUT_idx.apply(len).max()\n",
    "\n",
    "# Best in experiment 1\n",
    "layers = 2\n",
    "hidden_size = 200\n",
    "dropout = 0\n",
    "\n",
    "for i in range(5):\n",
    "    set_seed(i)\n",
    "    encoder = models.EncoderRNN('lstm', train_vocab_in.n_words, hidden_size, layers, dropout).to(device)\n",
    "    decoder = models.DecoderRNN('lstm', hidden_size, train_vocab_out.n_words, layers, device, max_len).to(device)\n",
    "    train(train_dataloader, encoder, decoder, device, save_name='ex1_best_'+str(i))"
   ]
  },
  {
   "cell_type": "code",
   "execution_count": null,
   "metadata": {},
   "outputs": [],
   "source": [
    "# Overall best\n",
    "layers = 2\n",
    "hidden_size = 200\n",
    "dropout = 0.5\n",
    "\n",
    "for i in range(5):\n",
    "    set_seed(i)\n",
    "    encoder = models.EncoderRNN('lstm', train_vocab_in.n_words, hidden_size, layers, dropout).to(device)\n",
    "    decoder = models.DecoderRNN('lstm', hidden_size, train_vocab_out.n_words, layers, device, max_len).to(device)\n",
    "    train(train_dataloader, encoder, decoder, device, save_name='ex1_overall_'+str(i))"
   ]
  },
  {
   "cell_type": "code",
   "execution_count": null,
   "metadata": {},
   "outputs": [],
   "source": [
    "layers = 2\n",
    "hidden_size = 200\n",
    "dropout = 0\n",
    "\n",
    "encoder = models.EncoderRNN('lstm', train_vocab_in.n_words, hidden_size, layers, dropout).to(device)\n",
    "decoder = models.DecoderRNN('lstm', hidden_size, train_vocab_out.n_words, layers, device, max_len).to(device)\n",
    "encoder.load_state_dict(torch.load('models/encoder_ex1_1.pth'))\n",
    "decoder.load_state_dict(torch.load('models/decoder_ex1_1.pth'))\n"
   ]
  },
  {
   "cell_type": "code",
   "execution_count": null,
   "metadata": {},
   "outputs": [],
   "source": [
    "from training import evaluate\n",
    "\n",
    "acc = evaluate(encoder, decoder, test_dataloader, device)"
   ]
  },
  {
   "cell_type": "markdown",
   "metadata": {},
   "source": [
    "Second part of experiment"
   ]
  },
  {
   "cell_type": "code",
   "execution_count": null,
   "metadata": {},
   "outputs": [],
   "source": [
    "# best overall\n",
    "max_len = train_df.OUT_idx.apply(len).max()\n",
    "layers = 2\n",
    "hidden_size = 200\n",
    "dropout = 0.5\n",
    "\n",
    "bs = 1 # Batch size\n",
    "\n",
    "percentages = [0.01, 0.02, 0.04, 0.08, 0.16, 0.32, 0.64]\n",
    "replications = 5\n",
    "accurcies = torch.zeros(len(percentages), replications)\n",
    "for i, p in enumerate(percentages):\n",
    "    set_seed(42)\n",
    "\n",
    "    idx = int(len(train_df) * p)\n",
    "    training_data = Text_dataset(train_df[['IN_idx', 'OUT_idx']][:idx], True, 100000)\n",
    "    \n",
    "    for j in range(replications):\n",
    "            set_seed(i)\n",
    "            encoder = models.EncoderRNN('lstm', train_vocab_in.n_words, hidden_size, layers, dropout).to(device)\n",
    "            decoder = models.DecoderRNN('lstm', hidden_size, train_vocab_out.n_words, layers, device, max_len).to(device)\n",
    "            train_dataloader = DataLoader(training_data, batch_size=bs, shuffle=False)\n",
    "            name = 'ex1_pt2_p'+str(p)[2:]+'_'+str(j)\n",
    "            train(train_dataloader, encoder, decoder, device, save_name=name)\n",
    "            acc = evaluate(encoder, decoder, test_dataloader, device)\n",
    "            accurcies[i,j] = acc\n",
    "\n",
    "txt = str(accurcies)\n",
    "f = open(\"ex1_pt2.txt\", \"a\")\n",
    "f.write(txt)\n",
    "f.close()"
   ]
  },
  {
   "cell_type": "code",
   "execution_count": 17,
   "metadata": {},
   "outputs": [],
   "source": [
    "txt = str(torch.ones(5,7))"
   ]
  },
  {
   "cell_type": "code",
   "execution_count": 18,
   "metadata": {},
   "outputs": [
    {
     "ename": "FileNotFoundError",
     "evalue": "[Errno 2] No such file or directory: 'demofile2.txt'",
     "output_type": "error",
     "traceback": [
      "\u001b[0;31m---------------------------------------------------------------------------\u001b[0m",
      "\u001b[0;31mFileNotFoundError\u001b[0m                         Traceback (most recent call last)",
      "\u001b[1;32m/Users/martin/kode/kurser/ATNLP/ATNLP_reimplementation_project/ex1.ipynb Cell 12\u001b[0m line \u001b[0;36m6\n\u001b[1;32m      <a href='vscode-notebook-cell:/Users/martin/kode/kurser/ATNLP/ATNLP_reimplementation_project/ex1.ipynb#X30sZmlsZQ%3D%3D?line=2'>3</a>\u001b[0m f\u001b[39m.\u001b[39mclose()\n\u001b[1;32m      <a href='vscode-notebook-cell:/Users/martin/kode/kurser/ATNLP/ATNLP_reimplementation_project/ex1.ipynb#X30sZmlsZQ%3D%3D?line=4'>5</a>\u001b[0m \u001b[39m#open and read the file after the appending:\u001b[39;00m\n\u001b[0;32m----> <a href='vscode-notebook-cell:/Users/martin/kode/kurser/ATNLP/ATNLP_reimplementation_project/ex1.ipynb#X30sZmlsZQ%3D%3D?line=5'>6</a>\u001b[0m f \u001b[39m=\u001b[39m \u001b[39mopen\u001b[39;49m(\u001b[39m\"\u001b[39;49m\u001b[39mdemofile2.txt\u001b[39;49m\u001b[39m\"\u001b[39;49m, \u001b[39m\"\u001b[39;49m\u001b[39mr\u001b[39;49m\u001b[39m\"\u001b[39;49m)\n\u001b[1;32m      <a href='vscode-notebook-cell:/Users/martin/kode/kurser/ATNLP/ATNLP_reimplementation_project/ex1.ipynb#X30sZmlsZQ%3D%3D?line=6'>7</a>\u001b[0m \u001b[39mprint\u001b[39m(f\u001b[39m.\u001b[39mread())\n",
      "File \u001b[0;32m~/Library/Python/3.11/lib/python/site-packages/IPython/core/interactiveshell.py:286\u001b[0m, in \u001b[0;36m_modified_open\u001b[0;34m(file, *args, **kwargs)\u001b[0m\n\u001b[1;32m    279\u001b[0m \u001b[39mif\u001b[39;00m file \u001b[39min\u001b[39;00m {\u001b[39m0\u001b[39m, \u001b[39m1\u001b[39m, \u001b[39m2\u001b[39m}:\n\u001b[1;32m    280\u001b[0m     \u001b[39mraise\u001b[39;00m \u001b[39mValueError\u001b[39;00m(\n\u001b[1;32m    281\u001b[0m         \u001b[39mf\u001b[39m\u001b[39m\"\u001b[39m\u001b[39mIPython won\u001b[39m\u001b[39m'\u001b[39m\u001b[39mt let you open fd=\u001b[39m\u001b[39m{\u001b[39;00mfile\u001b[39m}\u001b[39;00m\u001b[39m by default \u001b[39m\u001b[39m\"\u001b[39m\n\u001b[1;32m    282\u001b[0m         \u001b[39m\"\u001b[39m\u001b[39mas it is likely to crash IPython. If you know what you are doing, \u001b[39m\u001b[39m\"\u001b[39m\n\u001b[1;32m    283\u001b[0m         \u001b[39m\"\u001b[39m\u001b[39myou can use builtins\u001b[39m\u001b[39m'\u001b[39m\u001b[39m open.\u001b[39m\u001b[39m\"\u001b[39m\n\u001b[1;32m    284\u001b[0m     )\n\u001b[0;32m--> 286\u001b[0m \u001b[39mreturn\u001b[39;00m io_open(file, \u001b[39m*\u001b[39;49margs, \u001b[39m*\u001b[39;49m\u001b[39m*\u001b[39;49mkwargs)\n",
      "\u001b[0;31mFileNotFoundError\u001b[0m: [Errno 2] No such file or directory: 'demofile2.txt'"
     ]
    }
   ],
   "source": []
  }
 ],
 "metadata": {
  "kernelspec": {
   "display_name": "Python 3",
   "language": "python",
   "name": "python3"
  },
  "language_info": {
   "codemirror_mode": {
    "name": "ipython",
    "version": 3
   },
   "file_extension": ".py",
   "mimetype": "text/x-python",
   "name": "python",
   "nbconvert_exporter": "python",
   "pygments_lexer": "ipython3",
   "version": "3.11.5"
  }
 },
 "nbformat": 4,
 "nbformat_minor": 2
}
