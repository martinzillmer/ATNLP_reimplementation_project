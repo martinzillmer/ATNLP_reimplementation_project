{
 "cells": [
  {
   "cell_type": "code",
   "execution_count": 1,
   "metadata": {},
   "outputs": [],
   "source": [
    "from __future__ import unicode_literals, print_function, division\n",
    "import torch\n",
    "device = torch.device(\"cuda\" if torch.cuda.is_available() else \"cpu\")"
   ]
  },
  {
   "cell_type": "code",
   "execution_count": 2,
   "metadata": {},
   "outputs": [
    {
     "data": {
      "text/html": [
       "<div>\n",
       "<style scoped>\n",
       "    .dataframe tbody tr th:only-of-type {\n",
       "        vertical-align: middle;\n",
       "    }\n",
       "\n",
       "    .dataframe tbody tr th {\n",
       "        vertical-align: top;\n",
       "    }\n",
       "\n",
       "    .dataframe thead th {\n",
       "        text-align: right;\n",
       "    }\n",
       "</style>\n",
       "<table border=\"1\" class=\"dataframe\">\n",
       "  <thead>\n",
       "    <tr style=\"text-align: right;\">\n",
       "      <th></th>\n",
       "      <th>IN</th>\n",
       "      <th>OUT</th>\n",
       "    </tr>\n",
       "  </thead>\n",
       "  <tbody>\n",
       "    <tr>\n",
       "      <th>0</th>\n",
       "      <td>[jump, opposite, right, twice, and, turn, oppo...</td>\n",
       "      <td>[&lt;sos&gt;, I_TURN_RIGHT, I_TURN_RIGHT, I_JUMP, I_...</td>\n",
       "    </tr>\n",
       "    <tr>\n",
       "      <th>1</th>\n",
       "      <td>[run, opposite, left, after, walk, right, &lt;eos&gt;]</td>\n",
       "      <td>[&lt;sos&gt;, I_TURN_RIGHT, I_WALK, I_TURN_LEFT, I_T...</td>\n",
       "    </tr>\n",
       "    <tr>\n",
       "      <th>2</th>\n",
       "      <td>[walk, after, run, around, right, twice, &lt;eos&gt;]</td>\n",
       "      <td>[&lt;sos&gt;, I_TURN_RIGHT, I_RUN, I_TURN_RIGHT, I_R...</td>\n",
       "    </tr>\n",
       "    <tr>\n",
       "      <th>3</th>\n",
       "      <td>[look, around, right, thrice, and, turn, left,...</td>\n",
       "      <td>[&lt;sos&gt;, I_TURN_RIGHT, I_LOOK, I_TURN_RIGHT, I_...</td>\n",
       "    </tr>\n",
       "    <tr>\n",
       "      <th>4</th>\n",
       "      <td>[walk, opposite, left, twice, and, walk, oppos...</td>\n",
       "      <td>[&lt;sos&gt;, I_TURN_LEFT, I_TURN_LEFT, I_WALK, I_TU...</td>\n",
       "    </tr>\n",
       "  </tbody>\n",
       "</table>\n",
       "</div>"
      ],
      "text/plain": [
       "                                                  IN  \\\n",
       "0  [jump, opposite, right, twice, and, turn, oppo...   \n",
       "1   [run, opposite, left, after, walk, right, <eos>]   \n",
       "2    [walk, after, run, around, right, twice, <eos>]   \n",
       "3  [look, around, right, thrice, and, turn, left,...   \n",
       "4  [walk, opposite, left, twice, and, walk, oppos...   \n",
       "\n",
       "                                                 OUT  \n",
       "0  [<sos>, I_TURN_RIGHT, I_TURN_RIGHT, I_JUMP, I_...  \n",
       "1  [<sos>, I_TURN_RIGHT, I_WALK, I_TURN_LEFT, I_T...  \n",
       "2  [<sos>, I_TURN_RIGHT, I_RUN, I_TURN_RIGHT, I_R...  \n",
       "3  [<sos>, I_TURN_RIGHT, I_LOOK, I_TURN_RIGHT, I_...  \n",
       "4  [<sos>, I_TURN_LEFT, I_TURN_LEFT, I_WALK, I_TU...  "
      ]
     },
     "execution_count": 2,
     "metadata": {},
     "output_type": "execute_result"
    }
   ],
   "source": [
    "from preprocessing import get_dataframes\n",
    "train_url = \"https://raw.githubusercontent.com/brendenlake/SCAN/master/simple_split/tasks_train_simple.txt\"\n",
    "test_url = \"https://raw.githubusercontent.com/brendenlake/SCAN/master/simple_split/tasks_test_simple.txt\"\n",
    "train_df, test_df = get_dataframes(train_url, test_url)\n",
    "\n",
    "train_df.head()"
   ]
  },
  {
   "cell_type": "code",
   "execution_count": 3,
   "metadata": {},
   "outputs": [
    {
     "name": "stdout",
     "output_type": "stream",
     "text": [
      "{'<sos>': 0, '<eos>': 1, 'jump': 2, 'opposite': 3, 'right': 4, 'twice': 5, 'and': 6, 'turn': 7, 'thrice': 8, 'run': 9, 'left': 10, 'after': 11, 'walk': 12, 'around': 13, 'look': 14}\n",
      "{'<sos>': 0, '<eos>': 1, 'I_TURN_RIGHT': 2, 'I_JUMP': 3, 'I_WALK': 4, 'I_TURN_LEFT': 5, 'I_RUN': 6, 'I_LOOK': 7}\n"
     ]
    },
    {
     "data": {
      "text/html": [
       "<div>\n",
       "<style scoped>\n",
       "    .dataframe tbody tr th:only-of-type {\n",
       "        vertical-align: middle;\n",
       "    }\n",
       "\n",
       "    .dataframe tbody tr th {\n",
       "        vertical-align: top;\n",
       "    }\n",
       "\n",
       "    .dataframe thead th {\n",
       "        text-align: right;\n",
       "    }\n",
       "</style>\n",
       "<table border=\"1\" class=\"dataframe\">\n",
       "  <thead>\n",
       "    <tr style=\"text-align: right;\">\n",
       "      <th></th>\n",
       "      <th>IN</th>\n",
       "      <th>OUT</th>\n",
       "      <th>IN_idx</th>\n",
       "      <th>OUT_idx</th>\n",
       "    </tr>\n",
       "  </thead>\n",
       "  <tbody>\n",
       "    <tr>\n",
       "      <th>0</th>\n",
       "      <td>[jump, opposite, right, twice, and, turn, oppo...</td>\n",
       "      <td>[&lt;sos&gt;, I_TURN_RIGHT, I_TURN_RIGHT, I_JUMP, I_...</td>\n",
       "      <td>[tensor(2), tensor(3), tensor(4), tensor(5), t...</td>\n",
       "      <td>[tensor(0), tensor(2), tensor(2), tensor(3), t...</td>\n",
       "    </tr>\n",
       "    <tr>\n",
       "      <th>1</th>\n",
       "      <td>[run, opposite, left, after, walk, right, &lt;eos&gt;]</td>\n",
       "      <td>[&lt;sos&gt;, I_TURN_RIGHT, I_WALK, I_TURN_LEFT, I_T...</td>\n",
       "      <td>[tensor(9), tensor(3), tensor(10), tensor(11),...</td>\n",
       "      <td>[tensor(0), tensor(2), tensor(4), tensor(5), t...</td>\n",
       "    </tr>\n",
       "    <tr>\n",
       "      <th>2</th>\n",
       "      <td>[walk, after, run, around, right, twice, &lt;eos&gt;]</td>\n",
       "      <td>[&lt;sos&gt;, I_TURN_RIGHT, I_RUN, I_TURN_RIGHT, I_R...</td>\n",
       "      <td>[tensor(12), tensor(11), tensor(9), tensor(13)...</td>\n",
       "      <td>[tensor(0), tensor(2), tensor(6), tensor(2), t...</td>\n",
       "    </tr>\n",
       "    <tr>\n",
       "      <th>3</th>\n",
       "      <td>[look, around, right, thrice, and, turn, left,...</td>\n",
       "      <td>[&lt;sos&gt;, I_TURN_RIGHT, I_LOOK, I_TURN_RIGHT, I_...</td>\n",
       "      <td>[tensor(14), tensor(13), tensor(4), tensor(8),...</td>\n",
       "      <td>[tensor(0), tensor(2), tensor(7), tensor(2), t...</td>\n",
       "    </tr>\n",
       "    <tr>\n",
       "      <th>4</th>\n",
       "      <td>[walk, opposite, left, twice, and, walk, oppos...</td>\n",
       "      <td>[&lt;sos&gt;, I_TURN_LEFT, I_TURN_LEFT, I_WALK, I_TU...</td>\n",
       "      <td>[tensor(12), tensor(3), tensor(10), tensor(5),...</td>\n",
       "      <td>[tensor(0), tensor(5), tensor(5), tensor(4), t...</td>\n",
       "    </tr>\n",
       "  </tbody>\n",
       "</table>\n",
       "</div>"
      ],
      "text/plain": [
       "                                                  IN  \\\n",
       "0  [jump, opposite, right, twice, and, turn, oppo...   \n",
       "1   [run, opposite, left, after, walk, right, <eos>]   \n",
       "2    [walk, after, run, around, right, twice, <eos>]   \n",
       "3  [look, around, right, thrice, and, turn, left,...   \n",
       "4  [walk, opposite, left, twice, and, walk, oppos...   \n",
       "\n",
       "                                                 OUT  \\\n",
       "0  [<sos>, I_TURN_RIGHT, I_TURN_RIGHT, I_JUMP, I_...   \n",
       "1  [<sos>, I_TURN_RIGHT, I_WALK, I_TURN_LEFT, I_T...   \n",
       "2  [<sos>, I_TURN_RIGHT, I_RUN, I_TURN_RIGHT, I_R...   \n",
       "3  [<sos>, I_TURN_RIGHT, I_LOOK, I_TURN_RIGHT, I_...   \n",
       "4  [<sos>, I_TURN_LEFT, I_TURN_LEFT, I_WALK, I_TU...   \n",
       "\n",
       "                                              IN_idx  \\\n",
       "0  [tensor(2), tensor(3), tensor(4), tensor(5), t...   \n",
       "1  [tensor(9), tensor(3), tensor(10), tensor(11),...   \n",
       "2  [tensor(12), tensor(11), tensor(9), tensor(13)...   \n",
       "3  [tensor(14), tensor(13), tensor(4), tensor(8),...   \n",
       "4  [tensor(12), tensor(3), tensor(10), tensor(5),...   \n",
       "\n",
       "                                             OUT_idx  \n",
       "0  [tensor(0), tensor(2), tensor(2), tensor(3), t...  \n",
       "1  [tensor(0), tensor(2), tensor(4), tensor(5), t...  \n",
       "2  [tensor(0), tensor(2), tensor(6), tensor(2), t...  \n",
       "3  [tensor(0), tensor(2), tensor(7), tensor(2), t...  \n",
       "4  [tensor(0), tensor(5), tensor(5), tensor(4), t...  "
      ]
     },
     "execution_count": 3,
     "metadata": {},
     "output_type": "execute_result"
    }
   ],
   "source": [
    "from preprocessing import get_vocab\n",
    "\n",
    "train_vocab_in = get_vocab(train_df['IN'], 'in')\n",
    "train_vocab_out = get_vocab(train_df['OUT'], 'out')\n",
    "\n",
    "print(train_vocab_in.word2index)\n",
    "print(train_vocab_out.word2index)\n",
    "\n",
    "def series2idx(row):\n",
    "    x = train_vocab_in.col2idx(row, 'IN')\n",
    "    y = train_vocab_out.col2idx(row, 'OUT')\n",
    "    return x, y\n",
    "    \n",
    "train_df[['IN_idx','OUT_idx']] = train_df.apply(series2idx, axis=1, result_type='expand')\n",
    "\n",
    "train_df.head()"
   ]
  },
  {
   "cell_type": "code",
   "execution_count": 4,
   "metadata": {},
   "outputs": [],
   "source": [
    "from dataloading import Text_dataset\n",
    "from torch.utils.data import DataLoader\n",
    "\n",
    "# Create datasets\n",
    "training_data = Text_dataset(train_df[['IN_idx', 'OUT_idx']], True, 10000)\n",
    "#test_data = Text_dataset(test_df, False)\n",
    "\n",
    "# Define dataloaders\n",
    "bs = 1 # Batch size\n",
    "train_dataloader = DataLoader(training_data, batch_size=bs, shuffle=False)\n",
    "#test_dataloader = DataLoader(test_data, batch_size=bs, shuffle=False)"
   ]
  },
  {
   "cell_type": "code",
   "execution_count": 5,
   "metadata": {},
   "outputs": [
    {
     "name": "stderr",
     "output_type": "stream",
     "text": [
      "100%|██████████| 10000/10000 [02:13<00:00, 74.88it/s]"
     ]
    },
    {
     "name": "stdout",
     "output_type": "stream",
     "text": [
      "2m 13s (- 0m 0s) (1 100%) 0.2767\n"
     ]
    },
    {
     "name": "stderr",
     "output_type": "stream",
     "text": [
      "\n"
     ]
    }
   ],
   "source": [
    "import models\n",
    "from training import train\n",
    "max_len = 30\n",
    "hidden_size = 200\n",
    "\n",
    "encoder = models.EncoderRNN(train_vocab_in.n_words, hidden_size, 0).to(device)\n",
    "decoder = models.DecoderRNN(hidden_size, train_vocab_out.n_words, device, max_len).to(device)\n",
    "\n",
    "train(train_dataloader, encoder, decoder, device)"
   ]
  }
 ],
 "metadata": {
  "kernelspec": {
   "display_name": "Python 3",
   "language": "python",
   "name": "python3"
  },
  "language_info": {
   "codemirror_mode": {
    "name": "ipython",
    "version": 3
   },
   "file_extension": ".py",
   "mimetype": "text/x-python",
   "name": "python",
   "nbconvert_exporter": "python",
   "pygments_lexer": "ipython3",
   "version": "3.11.5"
  }
 },
 "nbformat": 4,
 "nbformat_minor": 2
}
