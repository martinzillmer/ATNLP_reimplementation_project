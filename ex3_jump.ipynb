{
 "cells": [
  {
   "cell_type": "code",
   "execution_count": null,
   "metadata": {},
   "outputs": [],
   "source": [
    "import torch\n",
    "from preprocessing import get_dataframes\n",
    "from dataloading import Text_dataset, get_dataloaders\n",
    "from utilities import set_seed\n",
    "device = torch.device(\"cuda\" if torch.cuda.is_available() else \"cpu\")\n",
    "print(\"Device: \", device)\n",
    "\n",
    "# Enforce reproducability\n",
    "set_seed(42)\n",
    "\n",
    "# Create dataframes\n",
    "train_url = \"https://raw.githubusercontent.com/brendenlake/SCAN/master/add_prim_split/tasks_train_addprim_jump.txt\"\n",
    "test_url = \"https://raw.githubusercontent.com/brendenlake/SCAN/master/add_prim_split/tasks_test_addprim_jump.txt\"\n",
    "train_df, test_df, voc_in, voc_out = get_dataframes(train_url, test_url)\n",
    "\n",
    "# Create datasets\n",
    "train_data = Text_dataset(train_df[['IN_idx', 'OUT_idx', 'lens']], sample=True, size=100000)\n",
    "test_data = Text_dataset(test_df[['IN_idx', 'OUT_idx', 'lens']], sample=False)\n",
    "\n",
    "# Create\n",
    "train_loader, test_loader = get_dataloaders(train_data, test_data)\n",
    "\n",
    "max_len = max(max(train_df.len), max(train_df.len))"
   ]
  },
  {
   "cell_type": "code",
   "execution_count": null,
   "metadata": {},
   "outputs": [],
   "source": [
    "import models\n",
    "from training import train\n",
    "\n",
    "# Best Ex3 jump\n",
    "rnn = 'lstm'\n",
    "layers = 1\n",
    "hidden_size = 100\n",
    "dropout = 0.1\n",
    "\n",
    "for i in range(1,5):\n",
    "    set_seed(i)\n",
    "    encoder = models.EncoderRNN(rnn, len(voc_in), hidden_size, layers, dropout).to(device)\n",
    "    decoder = models.AttnDecoderRNN(rnn, hidden_size, len(voc_out), layers, device, max_len, dropout).to(device)      \n",
    "    train(train_loader, encoder, decoder, device, save_name='ex3_best_jump_'+str(i))\n"
   ]
  },
  {
   "cell_type": "code",
   "execution_count": 3,
   "metadata": {},
   "outputs": [
    {
     "data": {
      "text/plain": [
       "tensor([False, False, False])"
      ]
     },
     "execution_count": 3,
     "metadata": {},
     "output_type": "execute_result"
    }
   ],
   "source": [
    "import torch\n",
    "x = torch.tensor([[1,2,3],[4,5,6]])\n",
    "y = torch.tensor([[1,2,3],[5,6,7]])\n",
    "torch.all(x == y, axis=0)"
   ]
  },
  {
   "cell_type": "code",
   "execution_count": null,
   "metadata": {},
   "outputs": [],
   "source": [
    "import models\n",
    "from training import train\n",
    "\n",
    "# Best overall\n",
    "rnn = 'lstm'\n",
    "layers = 2\n",
    "hidden_size = 200\n",
    "dropout = 0.5\n",
    "\n",
    "for i in range(1,5):\n",
    "    set_seed(i)\n",
    "    encoder = models.EncoderRNN(rnn, len(voc_in), hidden_size, layers, dropout).to(device)\n",
    "    decoder = models.AttnDecoderRNN(rnn, hidden_size, len(voc_out), layers, device, max_len, dropout).to(device)      \n",
    "    train(train_loader, encoder, decoder, device, save_name='ex3_overall_jump_'+str(i))"
   ]
  }
 ],
 "metadata": {
  "kernelspec": {
   "display_name": "Python 3",
   "language": "python",
   "name": "python3"
  },
  "language_info": {
   "codemirror_mode": {
    "name": "ipython",
    "version": 3
   },
   "file_extension": ".py",
   "mimetype": "text/x-python",
   "name": "python",
   "nbconvert_exporter": "python",
   "pygments_lexer": "ipython3",
   "version": "3.11.5"
  }
 },
 "nbformat": 4,
 "nbformat_minor": 2
}
