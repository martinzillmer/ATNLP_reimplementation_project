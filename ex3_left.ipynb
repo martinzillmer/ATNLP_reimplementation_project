{
 "cells": [
  {
   "cell_type": "code",
   "execution_count": null,
   "metadata": {},
   "outputs": [],
   "source": [
    "import torch\n",
    "from preprocessing import get_dataframes\n",
    "from dataloading import Text_dataset, get_dataloaders\n",
    "from utilities import set_seed\n",
    "device = torch.device(\"cuda\" if torch.cuda.is_available() else \"cpu\")\n",
    "print(\"Device: \", device)\n",
    "\n",
    "# Enforce reproducability\n",
    "set_seed(42)\n",
    "\n",
    "# Create dataframes\n",
    "train_url = \"https://raw.githubusercontent.com/brendenlake/SCAN/master/add_prim_split/tasks_train_addprim_turn_left.txt\"\n",
    "test_url = \"https://raw.githubusercontent.com/brendenlake/SCAN/master/add_prim_split/tasks_test_addprim_turn_left.txt\"\n",
    "train_df, test_df, voc_in, voc_out = get_dataframes(train_url, test_url)\n",
    "\n",
    "# Create datasets\n",
    "train_data = Text_dataset(train_df[['IN_idx', 'OUT_idx', 'lens']], sample=True, size=100000)\n",
    "test_data = Text_dataset(test_df[['IN_idx', 'OUT_idx', 'lens']], sample=False)\n",
    "\n",
    "# Create\n",
    "train_loader, test_loader = get_dataloaders(train_data, test_data)\n",
    "\n",
    "max_len = max(max(test_df.lens),max(train_df.lens))"
   ]
  },
  {
   "cell_type": "code",
   "execution_count": null,
   "metadata": {},
   "outputs": [],
   "source": [
    "import models\n",
    "from training import train\n",
    "\n",
    "# Overall best\n",
    "rnn = 'lstm'\n",
    "layers = 2\n",
    "hidden_size = 200\n",
    "dropout = 0.5\n",
    "\n",
    "for i in range(5):\n",
    "    set_seed(i)\n",
    "    encoder = models.EncoderRNN(rnn, len(voc_in), hidden_size, layers, dropout).to(device)\n",
    "    decoder = models.DecoderRNN(rnn, hidden_size, len(voc_out), layers, device, max_len).to(device)      \n",
    "    train(train_loader, encoder, decoder, device, save_name='ex3_overall_left'+str(i))"
   ]
  },
  {
   "cell_type": "code",
   "execution_count": null,
   "metadata": {},
   "outputs": [],
   "source": [
    "import models\n",
    "from training import train\n",
    "\n",
    "# best ex3\n",
    "rnn = 'gru'\n",
    "layers = 1\n",
    "hidden_size = 100\n",
    "dropout = 0.1   \n",
    "\n",
    "for i in range(5):\n",
    "    set_seed(i)\n",
    "    encoder = models.EncoderRNN(rnn, len(voc_in), hidden_size, layers, dropout).to(device)\n",
    "    decoder = models.DecoderRNN(rnn, hidden_size, len(voc_out), layers, device, max_len).to(device)      \n",
    "    train(train_loader, encoder, decoder, device, save_name='ex3_best_left'+str(i))"
   ]
  }
 ],
 "metadata": {
  "language_info": {
   "name": "python"
  }
 },
 "nbformat": 4,
 "nbformat_minor": 2
}
