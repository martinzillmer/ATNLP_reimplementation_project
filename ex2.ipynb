{
 "cells": [
  {
   "cell_type": "code",
   "execution_count": 4,
   "metadata": {},
   "outputs": [
    {
     "name": "stdout",
     "output_type": "stream",
     "text": [
      "Device:  cpu\n",
      "Random seed set as 42\n"
     ]
    }
   ],
   "source": [
    "import torch\n",
    "from preprocessing import get_dataframes\n",
    "from dataloading import Text_dataset, get_dataloaders\n",
    "from utilities import set_seed\n",
    "device = torch.device(\"cuda\" if torch.cuda.is_available() else \"cpu\")\n",
    "print(\"Device: \", device)\n",
    "\n",
    "# Enforce reproducability\n",
    "set_seed(42)\n",
    "\n",
    "# Create dataframes\n",
    "train_url = \"https://raw.githubusercontent.com/brendenlake/SCAN/master/length_split/tasks_train_length.txt\"\n",
    "test_url = \"https://raw.githubusercontent.com/brendenlake/SCAN/master/length_split/tasks_test_length.txt\"\n",
    "train_df, test_df, voc_in, voc_out = get_dataframes(train_url, test_url)\n",
    "\n",
    "# Create datasets\n",
    "train_data = Text_dataset(train_df[['IN_idx', 'OUT_idx', 'lens']], sample=True, size=10000)\n",
    "test_data = Text_dataset(test_df[['IN_idx', 'OUT_idx', 'lens']], sample=False)\n",
    "\n",
    "# Create\n",
    "train_loader, test_loader = get_dataloaders(train_data, test_data)"
   ]
  },
  {
   "cell_type": "code",
   "execution_count": null,
   "metadata": {},
   "outputs": [],
   "source": [
    "import models\n",
    "from training import train\n",
    "\n",
    "# Best in experiment 2\n",
    "rnn = 'gru'\n",
    "layers = 1\n",
    "hidden_size = 50\n",
    "dropout = 0.5\n",
    "max_len = max(test_df.lens)\n",
    "\n",
    "for i in range(1,5):\n",
    "    set_seed(i)\n",
    "    encoder = models.EncoderRNN(rnn, len(voc_in), hidden_size, layers, dropout).to(device)\n",
    "    decoder = models.AttnDecoderRNN(rnn, hidden_size, len(voc_out), layers, device, max_len, dropout).to(device)      \n",
    "    train(train_loader, encoder, decoder, device, len(voc_out), save_name='ex2_best_'+str(i), )"
   ]
  },
  {
   "cell_type": "code",
   "execution_count": null,
   "metadata": {},
   "outputs": [],
   "source": [
    "import models\n",
    "from training import evaluate\n",
    "\n",
    "# Best in experiment 2\n",
    "rnn = 'gru'\n",
    "layers = 1\n",
    "hidden_size = 50\n",
    "dropout = 0.5\n",
    "max_len = max(test_df.lens)\n",
    "\n",
    "acc_oracle = 0\n",
    "acc_normal = 0\n",
    "for i in range(5):\n",
    "    set_seed(i)\n",
    "    encoder = models.EncoderRNN(rnn, len(voc_in), hidden_size, layers, dropout).to(device)\n",
    "    decoder = models.AttnDecoderRNN(rnn, hidden_size, len(voc_out), layers, device, max_len, dropout).to(device)\n",
    "    encoder.load_state_dict(torch.load('models/encoder_ex2_best_'+str(i)+'.pth'))\n",
    "    decoder.load_state_dict(torch.load('models/decoder_ex2_best_'+str(i)+'.pth'))\n",
    "    acc_oracle += evaluate(encoder, decoder, test_loader, device, oracle=True)\n",
    "    acc_normal += evaluate(encoder, decoder, test_loader, device, oracle=False)\n",
    "\n",
    "txt = \"GRU Normal: {}\\nGRU w. oracle: {}\".format(acc_normal/5, acc_oracle/5)\n",
    "f = open(\"ex2_oracle_gru\", \"a\")\n",
    "f.write(txt)\n",
    "f.close()"
   ]
  },
  {
   "cell_type": "code",
   "execution_count": null,
   "metadata": {},
   "outputs": [],
   "source": [
    "import models\n",
    "from training import train\n",
    "\n",
    "# Overall best\n",
    "rnn = 'lstm'\n",
    "layers = 2\n",
    "hidden_size = 200\n",
    "dropout = 0.5\n",
    "max_len = max(test_df.lens)\n",
    "\n",
    "for i in range(5):\n",
    "    set_seed(i)\n",
    "    encoder = models.EncoderRNN(rnn, len(voc_in), hidden_size, layers, dropout).to(device)\n",
    "    decoder = models.DecoderRNN(rnn, hidden_size, len(voc_out), layers, device, max_len).to(device)      \n",
    "    train(train_loader, encoder, decoder, device, len(voc_out), save_name='ex2_overall_'+str(i))"
   ]
  },
  {
   "cell_type": "code",
   "execution_count": null,
   "metadata": {},
   "outputs": [],
   "source": [
    "acc_oracle += evaluate(encoder, decoder, test_loader, device, oracle=True)\n",
    "acc_normal += evaluate(encoder, decoder, test_loader, device, oracle=False)"
   ]
  },
  {
   "cell_type": "code",
   "execution_count": 5,
   "metadata": {},
   "outputs": [
    {
     "name": "stdout",
     "output_type": "stream",
     "text": [
      "Random seed set as 0\n"
     ]
    },
    {
     "name": "stderr",
     "output_type": "stream",
     "text": [
      "  0%|          | 0/10000 [00:00<?, ?it/s]"
     ]
    },
    {
     "name": "stderr",
     "output_type": "stream",
     "text": [
      "100%|██████████| 10000/10000 [01:31<00:00, 109.29it/s]\n",
      "100%|██████████| 10000/10000 [01:29<00:00, 111.59it/s]\n"
     ]
    }
   ],
   "source": [
    "import models\n",
    "from training import evaluate\n",
    "\n",
    "# Overall best\n",
    "rnn = 'lstm'\n",
    "layers = 2\n",
    "hidden_size = 200\n",
    "dropout = 0.5\n",
    "max_len = max(test_df.lens)\n",
    "\n",
    "acc_oracle = 0\n",
    "acc_normal = 0\n",
    "for i in range(1):\n",
    "    set_seed(i)\n",
    "    encoder = models.EncoderRNN(rnn, len(voc_in), hidden_size, layers, dropout).to(device)\n",
    "    decoder = models.DecoderRNN(rnn, hidden_size, len(voc_out), layers, device, max_len).to(device)\n",
    "    encoder.load_state_dict(torch.load('models/encoder_ex2_overall_'+str(i)+'.pth'))\n",
    "    decoder.load_state_dict(torch.load('models/decoder_ex2_overall_'+str(i)+'.pth'))\n",
    "    acc_oracle += evaluate(encoder, decoder, train_loader, device, oracle=True)\n",
    "    acc_normal += evaluate(encoder, decoder, train_loader, device, oracle=False)\n",
    "\n",
    "txt = \"LSTM Normal: {}\\nLSTM w. oracle: {}\".format(acc_normal/5, acc_oracle/5)\n",
    "f = open(\"ex2_oracle_LSTM\", \"a\")\n",
    "f.write(txt)\n",
    "f.close()"
   ]
  },
  {
   "cell_type": "code",
   "execution_count": null,
   "metadata": {},
   "outputs": [],
   "source": [
    "torch.tensor([3,4,2]).topk(2)"
   ]
  },
  {
   "cell_type": "code",
   "execution_count": null,
   "metadata": {},
   "outputs": [],
   "source": [
    "\"\"\"\n",
    "import pytorch_lightning as pl\n",
    "import models\n",
    "pl.seed_everything(42)\n",
    "\n",
    "# Best in experiment 2\n",
    "rnn = 'gru'\n",
    "layers = 1\n",
    "hidden_size = 50\n",
    "dropout = 0.5\n",
    "max_len = train_df.OUT_idx.apply(len).max()\n",
    "\n",
    "encoder = models.EncoderRNN(rnn, len(voc_in), hidden_size, layers, dropout)\n",
    "decoder = models.AttnDecoderRNN(rnn, hidden_size, len(voc_out), layers, device, max_len, dropout)\n",
    "seq2seq = models.Seq2SeqModel(encoder, decoder, len(train_loader))\n",
    "trainer = pl.Trainer(gradient_clip_val=5, max_epochs=1, log_every_n_steps=1000)\n",
    "print(\"Fitting model..\")\n",
    "trainer.fit(model=seq2seq, train_dataloaders=train_loader)\n",
    "\"\"\""
   ]
  },
  {
   "cell_type": "code",
   "execution_count": null,
   "metadata": {},
   "outputs": [],
   "source": []
  }
 ],
 "metadata": {
  "kernelspec": {
   "display_name": "Python 3",
   "language": "python",
   "name": "python3"
  },
  "language_info": {
   "codemirror_mode": {
    "name": "ipython",
    "version": 3
   },
   "file_extension": ".py",
   "mimetype": "text/x-python",
   "name": "python",
   "nbconvert_exporter": "python",
   "pygments_lexer": "ipython3",
   "version": "3.11.5"
  }
 },
 "nbformat": 4,
 "nbformat_minor": 2
}
