{
 "cells": [
  {
   "cell_type": "code",
   "execution_count": 9,
   "metadata": {},
   "outputs": [
    {
     "name": "stdout",
     "output_type": "stream",
     "text": [
      "Device:  cpu\n",
      "Random seed set as 42\n",
      "Loading data...\n",
      "Padding OUT_idx column...\n"
     ]
    }
   ],
   "source": [
    "import torch\n",
    "from preprocessing import get_dataframes\n",
    "from dataloading import Text_dataset, get_dataloaders\n",
    "from utilities import set_seed\n",
    "device = torch.device(\"cuda\" if torch.cuda.is_available() else \"cpu\")\n",
    "print(\"Device: \", device)\n",
    "\n",
    "# Enforce reproducability\n",
    "set_seed(42)\n",
    "\n",
    "# Create dataframes\n",
    "train_url = \"https://raw.githubusercontent.com/brendenlake/SCAN/master/length_split/tasks_train_length.txt\"\n",
    "test_url = \"https://raw.githubusercontent.com/brendenlake/SCAN/master/length_split/tasks_test_length.txt\"\n",
    "train_df, test_df, voc_in, voc_out = get_dataframes(train_url, test_url)\n",
    "\n",
    "# Create datasets\n",
    "train_data = Text_dataset(train_df[['IN_idx', 'OUT_idx']], sample=True, size=100)\n",
    "test_data = Text_dataset(test_df[['IN_idx', 'OUT_idx']], sample=False)\n",
    "\n",
    "# Create\n",
    "train_dataloader, test_dataloader= get_dataloaders(train_data, test_data)"
   ]
  },
  {
   "cell_type": "code",
   "execution_count": 11,
   "metadata": {},
   "outputs": [
    {
     "name": "stdout",
     "output_type": "stream",
     "text": [
      "Random seed set as 0\n",
      "0m 5s (- 0m 0s) (1 100%) 0.8340\n",
      "Random seed set as 1\n",
      "0m 5s (- 0m 0s) (1 100%) 0.7999\n",
      "Random seed set as 2\n",
      "0m 5s (- 0m 0s) (1 100%) 0.8479\n",
      "Random seed set as 3\n",
      "0m 5s (- 0m 0s) (1 100%) 0.7817\n",
      "Random seed set as 4\n",
      "0m 5s (- 0m 0s) (1 100%) 0.8015\n"
     ]
    }
   ],
   "source": [
    "import models\n",
    "from training import train\n",
    "\n",
    "# Best in experiment 2\n",
    "rnn = 'gru'\n",
    "layers = 1\n",
    "hidden_size = 50\n",
    "dropout = 0.5\n",
    "max_len = train_df.OUT_idx.apply(len).max()\n",
    "\n",
    "for i in range(5):\n",
    "    set_seed(i)\n",
    "    encoder = models.EncoderRNN(rnn, len(voc_in), hidden_size, layers, dropout).to(device)\n",
    "    decoder = models.AttnDecoderRNN(rnn, hidden_size, len(voc_out), layers, device, max_len, dropout).to(device)      \n",
    "    train(train_dataloader, encoder, decoder, device, save_name='ex2_best_'+str(i))"
   ]
  },
  {
   "cell_type": "code",
   "execution_count": null,
   "metadata": {},
   "outputs": [],
   "source": [
    "import models\n",
    "from training import train\n",
    "\n",
    "# Overall best\n",
    "rnn = 'lstm'\n",
    "layers = 2\n",
    "hidden_size = 200\n",
    "dropout = 0.5\n",
    "max_len = train_df.OUT_idx.apply(len).max()\n",
    "\n",
    "for i in range(5):\n",
    "    set_seed(i)\n",
    "    encoder = models.EncoderRNN(rnn, len(voc_in), hidden_size, layers, dropout).to(device)\n",
    "    decoder = models.DecoderRNN(rnn, hidden_size, len(voc_out), layers, device, max_len).to(device)      \n",
    "    train(train_dataloader, encoder, decoder, device, save_name='ex1_overall_'+str(i))"
   ]
  }
 ],
 "metadata": {
  "kernelspec": {
   "display_name": "Python 3",
   "language": "python",
   "name": "python3"
  },
  "language_info": {
   "codemirror_mode": {
    "name": "ipython",
    "version": 3
   },
   "file_extension": ".py",
   "mimetype": "text/x-python",
   "name": "python",
   "nbconvert_exporter": "python",
   "pygments_lexer": "ipython3",
   "version": "3.11.5"
  }
 },
 "nbformat": 4,
 "nbformat_minor": 2
}
