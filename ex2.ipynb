{
 "cells": [
  {
   "cell_type": "code",
   "execution_count": null,
   "metadata": {},
   "outputs": [],
   "source": [
    "import torch\n",
    "from preprocessing import get_dataframes\n",
    "from dataloading import Text_dataset, get_dataloaders\n",
    "from utilities import set_seed\n",
    "device = torch.device(\"cuda\" if torch.cuda.is_available() else \"cpu\")\n",
    "print(\"Device: \", device)\n",
    "\n",
    "# Enforce reproducability\n",
    "set_seed(42)\n",
    "\n",
    "# Create dataframes\n",
    "train_url = \"https://raw.githubusercontent.com/brendenlake/SCAN/master/length_split/tasks_train_length.txt\"\n",
    "test_url = \"https://raw.githubusercontent.com/brendenlake/SCAN/master/length_split/tasks_test_length.txt\"\n",
    "train_df, test_df, voc_in, voc_out = get_dataframes(train_url, test_url)\n",
    "\n",
    "# Create datasets\n",
    "train_data = Text_dataset(train_df[['IN_idx', 'OUT_idx']], sample=True, size=100000)\n",
    "test_data = Text_dataset(test_df[['IN_idx', 'OUT_idx']], sample=False)\n",
    "\n",
    "# Create\n",
    "train_loader, test_loader= get_dataloaders(train_data, test_data, 4)"
   ]
  },
  {
   "cell_type": "code",
   "execution_count": null,
   "metadata": {},
   "outputs": [],
   "source": [
    "from lightning import Trainer\n",
    "import models\n",
    "\n",
    "# Best in experiment 2\n",
    "rnn = 'gru'\n",
    "layers = 1\n",
    "hidden_size = 50\n",
    "dropout = 0.5\n",
    "max_len = train_df.OUT_idx.apply(len).max()\n",
    "\n",
    "encoder = models.EncoderRNN(rnn, len(voc_in), hidden_size, layers, dropout)\n",
    "decoder = models.AttnDecoderRNN(rnn, hidden_size, len(voc_out), layers, device, max_len, dropout)\n",
    "seq2seq = models.Seq2SeqModel(encoder, decoder, len(train_loader))\n",
    "trainer = Trainer(max_epochs=1)\n",
    "print(\"Fitting model..\")\n",
    "trainer.fit(model=seq2seq, train_dataloaders=train_loader)"
   ]
  },
  {
   "cell_type": "code",
   "execution_count": null,
   "metadata": {},
   "outputs": [],
   "source": [
    "import models\n",
    "from training import train\n",
    "\n",
    "# Best in experiment 2\n",
    "rnn = 'gru'\n",
    "layers = 1\n",
    "hidden_size = 50\n",
    "dropout = 0.5\n",
    "max_len = train_df.OUT_idx.apply(len).max()\n",
    "\n",
    "for i in range(5):\n",
    "    set_seed(i)\n",
    "    encoder = models.EncoderRNN(rnn, len(voc_in), hidden_size, layers, dropout).to(device)\n",
    "    decoder = models.AttnDecoderRNN(rnn, hidden_size, len(voc_out), layers, device, max_len, dropout).to(device)      \n",
    "    train(train_loader, encoder, decoder, device, save_name='ex2_best_'+str(i))"
   ]
  },
  {
   "cell_type": "code",
   "execution_count": null,
   "metadata": {},
   "outputs": [],
   "source": [
    "import models\n",
    "from training import train\n",
    "\n",
    "# Overall best\n",
    "rnn = 'lstm'\n",
    "layers = 2\n",
    "hidden_size = 200\n",
    "dropout = 0.5\n",
    "max_len = train_df.OUT_idx.apply(len).max()\n",
    "\n",
    "for i in range(5):\n",
    "    set_seed(i)\n",
    "    encoder = models.EncoderRNN(rnn, len(voc_in), hidden_size, layers, dropout).to(device)\n",
    "    decoder = models.DecoderRNN(rnn, hidden_size, len(voc_out), layers, device, max_len).to(device)      \n",
    "    train(train_loader, encoder, decoder, device, save_name='ex1_overall_'+str(i))"
   ]
  }
 ],
 "metadata": {
  "kernelspec": {
   "display_name": "Python 3",
   "language": "python",
   "name": "python3"
  },
  "language_info": {
   "codemirror_mode": {
    "name": "ipython",
    "version": 3
   },
   "file_extension": ".py",
   "mimetype": "text/x-python",
   "name": "python",
   "nbconvert_exporter": "python",
   "pygments_lexer": "ipython3",
   "version": "3.11.5"
  }
 },
 "nbformat": 4,
 "nbformat_minor": 2
}
